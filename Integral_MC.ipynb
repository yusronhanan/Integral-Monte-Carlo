{
  "nbformat": 4,
  "nbformat_minor": 0,
  "metadata": {
    "colab": {
      "name": "Integral MC yusronhanan.ipynb",
      "provenance": [],
      "collapsed_sections": []
    },
    "kernelspec": {
      "name": "python3",
      "display_name": "Python 3"
    }
  },
  "cells": [
    {
      "cell_type": "code",
      "metadata": {
        "id": "PiJYqsh30Cv2",
        "colab_type": "code",
        "colab": {
          "base_uri": "https://localhost:8080/",
          "height": 329
        },
        "outputId": "f3749466-b726-40d0-a23b-f5d95e47ed08"
      },
      "source": [
        "from scipy import random\n",
        "import numpy as np\n",
        "import matplotlib.pyplot as plt\n",
        "\n",
        "# MONTE CARLO ESTIMATON FOR DEFINITE INTEGRAL\n",
        "\n",
        "#np.pi phi in python\n",
        "#np.sin(x) sin(x) in python\n",
        "\n",
        "#Limit of integration\n",
        "a = 1 #0\n",
        "b = 3 \n",
        "\n",
        "#random Variable\n",
        "N = 1000 #number of random variable/point\n",
        "xrand = random.uniform(a,b,N)\n",
        "\n",
        "#Function to integrate\n",
        "funcToPrint = \"x\" \n",
        "def func(x):\n",
        "    return x \n",
        "\n",
        "#Evaluate the function on our random point\n",
        "integral = 0.0\n",
        "\n",
        "for i in range(N):\n",
        "    integral += func(xrand[i])\n",
        "\n",
        "#Get the result!\n",
        "result = (b-a)/float(N)*integral\n",
        "print(\"The definite integral of \"+funcToPrint+\" from \"+str(a)+\" to \"+str(b)+\" is:\")\n",
        "print(str(result))\n",
        "\n",
        "#Ok, if we repeat over and over again, we never obtain the same result, but...\n",
        "#...for N large, every area we calculate is sufficiently close to the real integral.\n",
        "#That's  because, for the law of real number, the avarege of the succession\n",
        "#Now repeat the calculus of area many times and print the distribuition of our result\n",
        "\n",
        "areas = []\n",
        "\n",
        "for i in range(10000):\n",
        "\n",
        "    xrand = random.uniform(a,b, N)\n",
        "\n",
        "    integral = 0.0\n",
        "\n",
        "    for i in range(N):\n",
        "        integral += func(xrand[i])\n",
        "\n",
        "    result = (b-a)/float(N)*integral\n",
        "    areas.append(result)\n",
        "\n",
        "#Plot distribuition. It Should look like a Gaussian\n",
        "plt.title(\"Distribuition of areas calculated:\")\n",
        "plt.hist(areas, bins=30, ec = 'white')\n",
        "plt.xlabel(\"Areas\")\n",
        "plt.show()"
      ],
      "execution_count": 9,
      "outputs": [
        {
          "output_type": "stream",
          "text": [
            "The definite integral of x from 1 to 3 is:\n",
            "3.996591614162619\n"
          ],
          "name": "stdout"
        },
        {
          "output_type": "display_data",
          "data": {
            "image/png": "[encoded data removed]",
            "text/plain": [
              "<Figure size 432x288 with 1 Axes>"
            ]
          },
          "metadata": {
            "tags": []
          }
        }
      ]
    }
  ]
}